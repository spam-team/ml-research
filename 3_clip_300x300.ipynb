{
 "cells": [
  {
   "cell_type": "markdown",
   "id": "dab0fcfe-2ea7-471b-80b7-cd0dcd3560c5",
   "metadata": {},
   "source": [
    "# Разделение выборки для обучения семантической сегментации"
   ]
  },
  {
   "cell_type": "code",
   "execution_count": 1,
   "id": "dac5cc6e-4cb1-47ee-8abb-2d760a5ebd91",
   "metadata": {},
   "outputs": [],
   "source": [
    "import pandas as pd\n",
    "import os\n",
    "import cv2\n",
    "import json\n",
    "from PIL import Image, ImageDraw\n",
    "import numpy as np\n",
    "from tqdm.notebook import tqdm\n",
    "\n",
    "import math\n",
    "\n",
    "import matplotlib.pyplot as plt\n",
    "import seaborn as sns\n",
    "\n",
    "tqdm.pandas()"
   ]
  },
  {
   "cell_type": "code",
   "execution_count": 2,
   "id": "a50c1ea7-aaf7-4353-86e7-232a72d0ed2e",
   "metadata": {},
   "outputs": [],
   "source": [
    "def read_img(image_name):\n",
    "    image_name = image_name.split('.')[0] + '.JPG'\n",
    "    \n",
    "    img = cv2.imread(\n",
    "        os.path.join(\n",
    "            IMAGES_DIR, \n",
    "            image_name\n",
    "        ),\n",
    "        cv2.IMREAD_GRAYSCALE\n",
    "    )\n",
    "\n",
    "    return img"
   ]
  },
  {
   "cell_type": "code",
   "execution_count": 3,
   "id": "4571610f-2a07-4d24-a389-66b92b0958b5",
   "metadata": {},
   "outputs": [],
   "source": [
    "def read_coco(image_name):\n",
    "    image_name = image_name.split('.')[0] + '.json'\n",
    "    \n",
    "    with open(os.path.join(MARKUPS_DIR, image_name), 'r') as f:\n",
    "        data = json.load(f)\n",
    "        \n",
    "    return data"
   ]
  },
  {
   "cell_type": "code",
   "execution_count": 4,
   "id": "15b2971f-dcd9-49bc-9f19-922ea6ce90a7",
   "metadata": {},
   "outputs": [],
   "source": [
    "def mask_from_coco(img, polygons):\n",
    "    img = Image.new('L', (img.shape[1], img.shape[0]), 0)\n",
    "    for polygon in polygons:\n",
    "        ImageDraw.Draw(img).polygon(polygon, outline=1, fill=1)  \n",
    "    mask = np.array(img)\n",
    "    \n",
    "    return mask"
   ]
  },
  {
   "cell_type": "code",
   "execution_count": 5,
   "id": "5ca4bff8-ede7-4efa-87ea-bfc0752b69fd",
   "metadata": {},
   "outputs": [],
   "source": [
    "BASE_DIR = 'data/min_of_nature/'\n",
    "IMAGES_DIR = os.path.join(BASE_DIR, 'images')\n",
    "MARKUPS_DIR = os.path.join(BASE_DIR, 'markup')"
   ]
  },
  {
   "cell_type": "code",
   "execution_count": 6,
   "id": "b37f5cc6-04d6-41ce-b25f-f2caf4150bde",
   "metadata": {},
   "outputs": [],
   "source": [
    "SEGMENTATION_IMAGES = 'walrus_dataset/images/'\n",
    "SEGMENTATION_MASKS = 'walrus_dataset/masks/'"
   ]
  },
  {
   "cell_type": "code",
   "execution_count": 7,
   "id": "27964cc4-e64b-461a-8b9c-5c76f2c4a9fb",
   "metadata": {},
   "outputs": [],
   "source": [
    "import glob"
   ]
  },
  {
   "cell_type": "code",
   "execution_count": 33,
   "id": "722774ed-440f-4d2e-9a68-c958b34aa8b3",
   "metadata": {},
   "outputs": [],
   "source": [
    "def clip_image(image_name):\n",
    "    img = read_img(image_name)\n",
    "    coco = read_coco(image_name)\n",
    "    mask = mask_from_coco(img, [c['segmentation_poly'][0] for c in coco])\n",
    "    \n",
    "    h, w = img.shape[:2]\n",
    "    \n",
    "    k = 0\n",
    "    \n",
    "    for i, y_end in enumerate(range(300, img.shape[0], 300)):\n",
    "        for j, x_end in enumerate(range(300, img.shape[1], 300)):\n",
    "            img_name = image_name.split('.')[0] + f'{i}-{j}.JPG'\n",
    "            print(img_name)\n",
    "            \n",
    "            y_start = y_end - 300\n",
    "            x_start = x_end - 300\n",
    "            \n",
    "            img_part = img[y_start:y_end, x_start:x_end]\n",
    "            mask_part = mask[y_start:y_end, x_start:x_end]\n",
    "            \n",
    "            # print(img_part.shape, mask_part.shape)\n",
    "            \n",
    "            cv2.imwrite(os.path.join(SEGMENTATION_IMAGES, img_name), img_part)\n",
    "            cv2.imwrite(os.path.join(SEGMENTATION_MASKS, img_name), mask_part)"
   ]
  },
  {
   "cell_type": "code",
   "execution_count": 34,
   "id": "fa66ae35-a34b-4625-9150-b78644c3f1cb",
   "metadata": {},
   "outputs": [],
   "source": [
    "df = pd.read_csv('data/walrus_count.csv', index_col=0)"
   ]
  },
  {
   "cell_type": "code",
   "execution_count": 35,
   "id": "a320c501-3357-4c23-a40f-32b1da8a3d84",
   "metadata": {},
   "outputs": [
    {
     "data": {
      "text/html": [
       "<div>\n",
       "<style scoped>\n",
       "    .dataframe tbody tr th:only-of-type {\n",
       "        vertical-align: middle;\n",
       "    }\n",
       "\n",
       "    .dataframe tbody tr th {\n",
       "        vertical-align: top;\n",
       "    }\n",
       "\n",
       "    .dataframe thead th {\n",
       "        text-align: right;\n",
       "    }\n",
       "</style>\n",
       "<table border=\"1\" class=\"dataframe\">\n",
       "  <thead>\n",
       "    <tr style=\"text-align: right;\">\n",
       "      <th></th>\n",
       "      <th>image_name</th>\n",
       "      <th>count</th>\n",
       "    </tr>\n",
       "  </thead>\n",
       "  <tbody>\n",
       "    <tr>\n",
       "      <th>12</th>\n",
       "      <td>DJI_0003 (4).JPG</td>\n",
       "      <td>22</td>\n",
       "    </tr>\n",
       "    <tr>\n",
       "      <th>13</th>\n",
       "      <td>DJI_0003 (5).JPG</td>\n",
       "      <td>30</td>\n",
       "    </tr>\n",
       "    <tr>\n",
       "      <th>64</th>\n",
       "      <td>DJI_0021.JPG</td>\n",
       "      <td>32</td>\n",
       "    </tr>\n",
       "    <tr>\n",
       "      <th>116</th>\n",
       "      <td>org_96d6d6d684ea7c80_1626434080000.JPG</td>\n",
       "      <td>41</td>\n",
       "    </tr>\n",
       "    <tr>\n",
       "      <th>50</th>\n",
       "      <td>DJI_0018 (2).JPG</td>\n",
       "      <td>50</td>\n",
       "    </tr>\n",
       "  </tbody>\n",
       "</table>\n",
       "</div>"
      ],
      "text/plain": [
       "                                 image_name  count\n",
       "12                         DJI_0003 (4).JPG     22\n",
       "13                         DJI_0003 (5).JPG     30\n",
       "64                             DJI_0021.JPG     32\n",
       "116  org_96d6d6d684ea7c80_1626434080000.JPG     41\n",
       "50                         DJI_0018 (2).JPG     50"
      ]
     },
     "execution_count": 35,
     "metadata": {},
     "output_type": "execute_result"
    }
   ],
   "source": [
    "df.head()"
   ]
  },
  {
   "cell_type": "code",
   "execution_count": 36,
   "id": "08d1dd28-1812-4e41-b392-adb9036fc1b5",
   "metadata": {
    "collapsed": true,
    "jupyter": {
     "outputs_hidden": true
    },
    "tags": []
   },
   "outputs": [
    {
     "name": "stdout",
     "output_type": "stream",
     "text": [
      "DJI_0003 (4)0-0.JPG\n",
      "DJI_0003 (4)0-1.JPG\n",
      "DJI_0003 (4)0-2.JPG\n",
      "DJI_0003 (4)0-3.JPG\n",
      "DJI_0003 (4)0-4.JPG\n",
      "DJI_0003 (4)0-5.JPG\n",
      "DJI_0003 (4)0-6.JPG\n",
      "DJI_0003 (4)0-7.JPG\n",
      "DJI_0003 (4)0-8.JPG\n",
      "DJI_0003 (4)0-9.JPG\n",
      "DJI_0003 (4)0-10.JPG\n",
      "DJI_0003 (4)0-11.JPG\n",
      "DJI_0003 (4)0-12.JPG\n",
      "DJI_0003 (4)1-0.JPG\n",
      "DJI_0003 (4)1-1.JPG\n",
      "DJI_0003 (4)1-2.JPG\n",
      "DJI_0003 (4)1-3.JPG\n",
      "DJI_0003 (4)1-4.JPG\n",
      "DJI_0003 (4)1-5.JPG\n",
      "DJI_0003 (4)1-6.JPG\n",
      "DJI_0003 (4)1-7.JPG\n",
      "DJI_0003 (4)1-8.JPG\n",
      "DJI_0003 (4)1-9.JPG\n",
      "DJI_0003 (4)1-10.JPG\n",
      "DJI_0003 (4)1-11.JPG\n",
      "DJI_0003 (4)1-12.JPG\n",
      "DJI_0003 (4)2-0.JPG\n",
      "DJI_0003 (4)2-1.JPG\n",
      "DJI_0003 (4)2-2.JPG\n",
      "DJI_0003 (4)2-3.JPG\n",
      "DJI_0003 (4)2-4.JPG\n",
      "DJI_0003 (4)2-5.JPG\n",
      "DJI_0003 (4)2-6.JPG\n",
      "DJI_0003 (4)2-7.JPG\n",
      "DJI_0003 (4)2-8.JPG\n",
      "DJI_0003 (4)2-9.JPG\n",
      "DJI_0003 (4)2-10.JPG\n",
      "DJI_0003 (4)2-11.JPG\n",
      "DJI_0003 (4)2-12.JPG\n",
      "DJI_0003 (4)3-0.JPG\n",
      "DJI_0003 (4)3-1.JPG\n",
      "DJI_0003 (4)3-2.JPG\n",
      "DJI_0003 (4)3-3.JPG\n",
      "DJI_0003 (4)3-4.JPG\n",
      "DJI_0003 (4)3-5.JPG\n",
      "DJI_0003 (4)3-6.JPG\n",
      "DJI_0003 (4)3-7.JPG\n",
      "DJI_0003 (4)3-8.JPG\n",
      "DJI_0003 (4)3-9.JPG\n",
      "DJI_0003 (4)3-10.JPG\n",
      "DJI_0003 (4)3-11.JPG\n",
      "DJI_0003 (4)3-12.JPG\n",
      "DJI_0003 (4)4-0.JPG\n",
      "DJI_0003 (4)4-1.JPG\n",
      "DJI_0003 (4)4-2.JPG\n",
      "DJI_0003 (4)4-3.JPG\n",
      "DJI_0003 (4)4-4.JPG\n",
      "DJI_0003 (4)4-5.JPG\n",
      "DJI_0003 (4)4-6.JPG\n",
      "DJI_0003 (4)4-7.JPG\n",
      "DJI_0003 (4)4-8.JPG\n",
      "DJI_0003 (4)4-9.JPG\n",
      "DJI_0003 (4)4-10.JPG\n",
      "DJI_0003 (4)4-11.JPG\n",
      "DJI_0003 (4)4-12.JPG\n",
      "DJI_0003 (4)5-0.JPG\n",
      "DJI_0003 (4)5-1.JPG\n",
      "DJI_0003 (4)5-2.JPG\n",
      "DJI_0003 (4)5-3.JPG\n",
      "DJI_0003 (4)5-4.JPG\n",
      "DJI_0003 (4)5-5.JPG\n",
      "DJI_0003 (4)5-6.JPG\n",
      "DJI_0003 (4)5-7.JPG\n",
      "DJI_0003 (4)5-8.JPG\n",
      "DJI_0003 (4)5-9.JPG\n",
      "DJI_0003 (4)5-10.JPG\n",
      "DJI_0003 (4)5-11.JPG\n",
      "DJI_0003 (4)5-12.JPG\n",
      "DJI_0003 (4)6-0.JPG\n",
      "DJI_0003 (4)6-1.JPG\n",
      "DJI_0003 (4)6-2.JPG\n",
      "DJI_0003 (4)6-3.JPG\n",
      "DJI_0003 (4)6-4.JPG\n",
      "DJI_0003 (4)6-5.JPG\n",
      "DJI_0003 (4)6-6.JPG\n",
      "DJI_0003 (4)6-7.JPG\n",
      "DJI_0003 (4)6-8.JPG\n",
      "DJI_0003 (4)6-9.JPG\n",
      "DJI_0003 (4)6-10.JPG\n",
      "DJI_0003 (4)6-11.JPG\n",
      "DJI_0003 (4)6-12.JPG\n",
      "DJI_0003 (4)7-0.JPG\n",
      "DJI_0003 (4)7-1.JPG\n",
      "DJI_0003 (4)7-2.JPG\n",
      "DJI_0003 (4)7-3.JPG\n",
      "DJI_0003 (4)7-4.JPG\n",
      "DJI_0003 (4)7-5.JPG\n",
      "DJI_0003 (4)7-6.JPG\n",
      "DJI_0003 (4)7-7.JPG\n",
      "DJI_0003 (4)7-8.JPG\n",
      "DJI_0003 (4)7-9.JPG\n",
      "DJI_0003 (4)7-10.JPG\n",
      "DJI_0003 (4)7-11.JPG\n",
      "DJI_0003 (4)7-12.JPG\n",
      "DJI_0003 (4)8-0.JPG\n",
      "DJI_0003 (4)8-1.JPG\n",
      "DJI_0003 (4)8-2.JPG\n",
      "DJI_0003 (4)8-3.JPG\n",
      "DJI_0003 (4)8-4.JPG\n",
      "DJI_0003 (4)8-5.JPG\n",
      "DJI_0003 (4)8-6.JPG\n",
      "DJI_0003 (4)8-7.JPG\n",
      "DJI_0003 (4)8-8.JPG\n",
      "DJI_0003 (4)8-9.JPG\n",
      "DJI_0003 (4)8-10.JPG\n",
      "DJI_0003 (4)8-11.JPG\n",
      "DJI_0003 (4)8-12.JPG\n"
     ]
    }
   ],
   "source": [
    "clip_image('DJI_0003 (4).JPG')"
   ]
  },
  {
   "cell_type": "code",
   "execution_count": null,
   "id": "5f329395-1723-4b71-98cd-23e0d6452561",
   "metadata": {},
   "outputs": [],
   "source": [
    "plt.imshow(cv2.imread('./walrus_dataset/images/DJI_0003.JPG'))"
   ]
  },
  {
   "cell_type": "code",
   "execution_count": 45,
   "id": "43eeb2eb-f7ff-45ec-9ce8-8c8f663e068a",
   "metadata": {},
   "outputs": [
    {
     "data": {
      "text/plain": [
       "array([0. , 0.5, 1. ])"
      ]
     },
     "execution_count": 45,
     "metadata": {},
     "output_type": "execute_result"
    }
   ],
   "source": [
    "np.unique(cv2.imread('./walrus_dataset/masks/DJI_0003 (4)5-7.JPG') / 2)"
   ]
  },
  {
   "cell_type": "code",
   "execution_count": 46,
   "id": "bd29fced-0818-44cc-a2fe-67dfb279721a",
   "metadata": {},
   "outputs": [
    {
     "data": {
      "text/plain": [
       "<matplotlib.image.AxesImage at 0x1382fc700>"
      ]
     },
     "execution_count": 46,
     "metadata": {},
     "output_type": "execute_result"
    },
    {
     "data": {
      "image/png": "[encoded data removed]",
      "text/plain": [
       "<Figure size 432x288 with 1 Axes>"
      ]
     },
     "metadata": {
      "needs_background": "light"
     },
     "output_type": "display_data"
    }
   ],
   "source": [
    "plt.imshow(cv2.imread('./walrus_dataset/masks/DJI_0003 (4)5-7.JPG') / 2)"
   ]
  }
 ],
 "metadata": {
  "kernelspec": {
   "display_name": "Python 3 (ipykernel)",
   "language": "python",
   "name": "python3"
  },
  "language_info": {
   "codemirror_mode": {
    "name": "ipython",
    "version": 3
   },
   "file_extension": ".py",
   "mimetype": "text/x-python",
   "name": "python",
   "nbconvert_exporter": "python",
   "pygments_lexer": "ipython3",
   "version": "3.8.2"
  }
 },
 "nbformat": 4,
 "nbformat_minor": 5
}
